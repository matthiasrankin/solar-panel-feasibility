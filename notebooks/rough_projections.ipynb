{
 "cells": [
  {
   "attachments": {},
   "cell_type": "markdown",
   "metadata": {},
   "source": [
    "# Some 'Back of the Envelope' Calculations.\n",
    "\n",
    "Have a glance through this notebook, but take it with a pinch of salt. A few caveats that need to be considered:\n",
    "\n",
    "- I have gathered the initial figures from some internet research, but some, in particular the installation cost and solar panel total output, could be off. If anyone has a better figure for these, let me know and we can rerun the analysis to see how it changes things. This would benefit most from a consultation with an expert. You can see how each figure is defined in `data/ballpark_figures.yaml`.\n",
    "- Electricity pricing is unpredictable at the moment, at least in terms of the next few years. I think it's reasonable to assume that prices will fall, but who knows by how much? I make an attempt to consider both high price and low price regimes, but if anyone has reliable resources that point to more concrete predictions for the future, they would be useful.\n",
    "- I have not considered efficiency of the system as a whole, as I'm unsure of efficiency ratings. We'd need to consider battery storage efficiency also. In addition, solar panels degrade over time, and can ~ 0.5% of their efficiency per year, although when compared with the uncertainty of the rest of the numbers, this is the least of our worries."
   ]
  },
  {
   "cell_type": "code",
   "execution_count": 1,
   "metadata": {},
   "outputs": [],
   "source": [
    "import matplotlib.pyplot as plt\n",
    "import pandas as pd\n",
    "import seaborn as sns\n",
    "import yaml"
   ]
  },
  {
   "cell_type": "code",
   "execution_count": 2,
   "metadata": {},
   "outputs": [],
   "source": [
    "yearly_electricity_bills = pd.read_csv(\"../data/yearly_electricity_bills.csv\")"
   ]
  },
  {
   "cell_type": "code",
   "execution_count": 3,
   "metadata": {},
   "outputs": [
    {
     "data": {
      "image/png": "[encoded data removed]",
      "text/plain": [
       "<Figure size 640x480 with 1 Axes>"
      ]
     },
     "metadata": {},
     "output_type": "display_data"
    }
   ],
   "source": [
    "sns.set_theme(context=\"paper\", style=\"darkgrid\")\n",
    "sns.barplot(\n",
    "    data=yearly_electricity_bills,\n",
    "    x=\"year\",\n",
    "    y=\"bill\",\n",
    "    color=sns.color_palette('colorblind')[0]\n",
    ")\n",
    "\n",
    "plt.title(\"Yearly Electricity Bill (2013-2022)\")\n",
    "plt.xlabel(\"Year\")\n",
    "plt.ylabel(\"Bill / £\")\n",
    "plt.savefig(\"../plots/yearly_electricity_bill.png\")"
   ]
  },
  {
   "cell_type": "code",
   "execution_count": 16,
   "metadata": {},
   "outputs": [],
   "source": [
    "with open(\"../data/ballpark_figures.yaml\", \"r\", encoding=\"utf-8\") as filepath:\n",
    "    parameters = yaml.load(filepath, Loader=yaml.FullLoader)\n",
    "\n",
    "ballpark_installation_cost = parameters[\"installation_cost\"]\n",
    "ballpark_sell_back_rate = parameters[\"sell_back_rate\"]\n",
    "ballpark_yearly_bill = parameters[\"yearly_bill\"]\n",
    "expected_unit_rate = parameters[\"expected_unit_rate\"]\n",
    "ballpark_yearly_usage = ballpark_yearly_bill / expected_unit_rate\n",
    "ave_hours_daylight = parameters[\"ave_hours_daylight\"]\n",
    "solar_panel_total_output = parameters[\"solar_panel_total_output\"]\n",
    "solar_panel_lifetime = parameters[\"solar_panel_lifetime\"]\n",
    "\n",
    "ave_yearly_output = solar_panel_total_output * ave_hours_daylight * 365.25\n",
    "total_lifetime_output = ave_yearly_output * solar_panel_lifetime\n"
   ]
  },
  {
   "attachments": {},
   "cell_type": "markdown",
   "metadata": {},
   "source": [
    "## High Price Best Case Scenario: We Use All We Generate\n",
    "\n",
    "Electricity is more expensive when we buy it compared to when we sell it.\n",
    "\n",
    "**Note:** This analysis does not take into account fluctuations in price following demand (e.g. at different times of day)."
   ]
  },
  {
   "cell_type": "code",
   "execution_count": 17,
   "metadata": {},
   "outputs": [
    {
     "name": "stdout",
     "output_type": "stream",
     "text": [
      "Solar panels pay for themselves in 10.33 years.\n",
      "Total Profit = £22726.61\n"
     ]
    }
   ],
   "source": [
    "# Our savings are just the panels' output multiplied by the unit rate.\n",
    "# We also assume here that prices remain high (unlikely).\n",
    "\n",
    "best_case_yearly_savings = ave_yearly_output * expected_unit_rate\n",
    "best_case_payback_time = ballpark_installation_cost / best_case_yearly_savings\n",
    "\n",
    "print(f\"Solar panels pay for themselves in {round(best_case_payback_time, 2)} years.\")\n",
    "\n",
    "best_case_time_post_payback = solar_panel_lifetime - best_case_payback_time\n",
    "print(f\"Total Profit = £{round(best_case_time_post_payback * best_case_yearly_savings, 2)}\")"
   ]
  },
  {
   "attachments": {},
   "cell_type": "markdown",
   "metadata": {},
   "source": [
    "## High Price Worst Case Scenario: We Sell All We Generate\n",
    "\n",
    "Again, assuming unit prices remain high (see below for more discussion)."
   ]
  },
  {
   "cell_type": "code",
   "execution_count": 18,
   "metadata": {},
   "outputs": [
    {
     "name": "stdout",
     "output_type": "stream",
     "text": [
      "Solar panels pay for themselves in 19.29 years.\n",
      "Total Profit = £4731.59\n"
     ]
    }
   ],
   "source": [
    "# Our savings are the panels' output multiplied by the expected sell back rate:\n",
    "\n",
    "worst_case_yearly_savings = ave_yearly_output * ballpark_sell_back_rate\n",
    "worst_case_payback_time = ballpark_installation_cost / worst_case_yearly_savings\n",
    "\n",
    "print(f\"Solar panels pay for themselves in {round(worst_case_payback_time, 2)} years.\")\n",
    "\n",
    "worst_case_time_post_payback = solar_panel_lifetime - worst_case_payback_time\n",
    "print(f\"Total Profit = £{round(worst_case_time_post_payback * worst_case_yearly_savings, 2)}\")"
   ]
  },
  {
   "attachments": {},
   "cell_type": "markdown",
   "metadata": {},
   "source": [
    "## What if prices return to normal levels?\n",
    "\n",
    "Let's assume a normal yearly bill of £8000. This is higher than the church's normal bill for years 2012-2021, but we expect some increase due to general inflation."
   ]
  },
  {
   "cell_type": "code",
   "execution_count": 19,
   "metadata": {},
   "outputs": [
    {
     "name": "stdout",
     "output_type": "stream",
     "text": [
      "Normal Unit Rate = 0.16 p/kWh\n",
      "Normal Sell Back Rate = 0.08 p/kWh\n"
     ]
    }
   ],
   "source": [
    "# Let's reverse engineer a more 'normal' unit rate:\n",
    "\n",
    "normal_unit_rate = 8000 / ballpark_yearly_usage\n",
    "print(f\"Normal Unit Rate = {round(normal_unit_rate, 2)} p/kWh\")\n",
    "\n",
    "# Let's also assume that the normal sell back rate decreases proportionally:\n",
    "\n",
    "normal_sell_back_rate = normal_unit_rate * (ballpark_sell_back_rate / expected_unit_rate)\n",
    "print(f\"Normal Sell Back Rate = {round(normal_sell_back_rate, 2)} p/kWh\")"
   ]
  },
  {
   "attachments": {},
   "cell_type": "markdown",
   "metadata": {},
   "source": [
    "Now we repeat the analyses above. First for the best case scenario:"
   ]
  },
  {
   "cell_type": "code",
   "execution_count": 20,
   "metadata": {},
   "outputs": [
    {
     "name": "stdout",
     "output_type": "stream",
     "text": [
      "Solar panels pay for themselves in 18.24 years.\n",
      "Total Profit = £5932.06\n"
     ]
    }
   ],
   "source": [
    "lp_best_case_yearly_savings = ave_yearly_output * normal_unit_rate\n",
    "lp_best_case_payback_time = ballpark_installation_cost / lp_best_case_yearly_savings\n",
    "\n",
    "print(f\"Solar panels pay for themselves in {round(lp_best_case_payback_time, 2)} years.\")\n",
    "\n",
    "lp_best_case_time_post_payback = solar_panel_lifetime - lp_best_case_payback_time\n",
    "print(f\"Total Profit = £{round(lp_best_case_time_post_payback * lp_best_case_yearly_savings, 2)}\")"
   ]
  },
  {
   "attachments": {},
   "cell_type": "markdown",
   "metadata": {},
   "source": [
    "Now for the worst case scenario:"
   ]
  },
  {
   "cell_type": "code",
   "execution_count": 21,
   "metadata": {},
   "outputs": [
    {
     "name": "stdout",
     "output_type": "stream",
     "text": [
      "Solar panels pay for themselves in 34.07 years.\n",
      "Total Profit = £-4259.07\n"
     ]
    }
   ],
   "source": [
    "lp_worst_case_yearly_savings = ave_yearly_output * normal_sell_back_rate\n",
    "lp_worst_case_payback_time = ballpark_installation_cost / lp_worst_case_yearly_savings\n",
    "\n",
    "print(f\"Solar panels pay for themselves in {round(lp_worst_case_payback_time, 2)} years.\")\n",
    "\n",
    "lp_worst_case_time_post_payback = solar_panel_lifetime - lp_worst_case_payback_time\n",
    "print(f\"Total Profit = £{round(lp_worst_case_time_post_payback * lp_worst_case_yearly_savings, 2)}\")"
   ]
  }
 ],
 "metadata": {
  "kernelspec": {
   "display_name": "data_science",
   "language": "python",
   "name": "python3"
  },
  "language_info": {
   "codemirror_mode": {
    "name": "ipython",
    "version": 3
   },
   "file_extension": ".py",
   "mimetype": "text/x-python",
   "name": "python",
   "nbconvert_exporter": "python",
   "pygments_lexer": "ipython3",
   "version": "3.10.9"
  },
  "orig_nbformat": 4,
  "vscode": {
   "interpreter": {
    "hash": "f63e307c578c5f5d69d28e6718c30f85252023598737a93746db4c35a519bc29"
   }
  }
 },
 "nbformat": 4,
 "nbformat_minor": 2
}
